{
 "cells": [
  {
   "cell_type": "code",
   "execution_count": 1,
   "metadata": {},
   "outputs": [
    {
     "name": "stderr",
     "output_type": "stream",
     "text": [
      "C:\\Users\\linhpn.VISC\\AppData\\Local\\Continuum\\Anaconda3\\lib\\site-packages\\h5py\\__init__.py:34: FutureWarning: Conversion of the second argument of issubdtype from `float` to `np.floating` is deprecated. In future, it will be treated as `np.float64 == np.dtype(float).type`.\n",
      "  from ._conv import register_converters as _register_converters\n"
     ]
    }
   ],
   "source": [
    "from ner import NER"
   ]
  },
  {
   "cell_type": "code",
   "execution_count": 2,
   "metadata": {
    "collapsed": true
   },
   "outputs": [],
   "source": [
    "parameters = {'pretrained_model_folder':'../model',\n",
    "                      'dataset_text_folder':'../../../ML_EntityData/data/en',\n",
    "                      'character_embedding_dimension':25,\n",
    "                      'character_lstm_hidden_state_dimension':25,\n",
    "                      'check_for_digits_replaced_with_zeros':True,\n",
    "                      'check_for_lowercase':True,\n",
    "                      'debug':False,\n",
    "                      'dropout_rate':0.5,\n",
    "                      'experiment_name':'test',\n",
    "                      'freeze_token_embeddings':False,\n",
    "                      'gradient_clipping_value':5.0,\n",
    "                      'learning_rate':0.005,\n",
    "                      'load_only_pretrained_token_embeddings':False,\n",
    "                      'load_all_pretrained_token_embeddings':False,\n",
    "#                       'main_evaluation_mode':'conll',\n",
    "                      'maximum_number_of_epochs':500,\n",
    "                      'number_of_cpu_threads':8,\n",
    "                      'number_of_gpus':0,\n",
    "                      'optimizer':'sgd',\n",
    "                      'output_folder':'../../../ML_EntityData/output',\n",
    "                      'patience':10,\n",
    "#                       'plot_format':'pdf',\n",
    "                      'reload_character_embeddings':True,\n",
    "                      'reload_character_lstm':True,\n",
    "                      'reload_crf':True,\n",
    "                      'reload_feedforward':True,\n",
    "                      'reload_token_embeddings':True,\n",
    "                      'reload_token_lstm':True,\n",
    "                      'remap_unknown_tokens_to_unk':True,\n",
    "#                       'spacylanguage':'en',\n",
    "                      'tagging_format':'bioes',\n",
    "                      'token_embedding_dimension':100,\n",
    "                      'token_lstm_hidden_state_dimension':100,\n",
    "                      'token_pretrained_embedding_filepath':'../../../ML_EntityData/embedding/en/glove.6B.100d.txt',\n",
    "#                       'tokenizer':'spacy',\n",
    "                      'train_model':True,\n",
    "                      'use_character_lstm':True,\n",
    "#                       'use_crf':True,\n",
    "                      'use_pretrained_model':False,\n",
    "                      'verbose':False}"
   ]
  },
  {
   "cell_type": "code",
   "execution_count": 3,
   "metadata": {
    "scrolled": false
   },
   "outputs": [
    {
     "name": "stdout",
     "output_type": "stream",
     "text": [
      "Checking the validity of BRAT-formatted train set... Done.\n",
      "Checking compatibility between CONLL and BRAT for train_compatible_with_brat set ... Done.\n",
      "Checking validity of CONLL BIOES format... Done.\n",
      "Checking the validity of BRAT-formatted valid set... Done.\n",
      "Checking compatibility between CONLL and BRAT for valid_compatible_with_brat set ... Done.\n",
      "Checking validity of CONLL BIOES format... Done.\n",
      "Checking the validity of BRAT-formatted test set... Done.\n",
      "Checking compatibility between CONLL and BRAT for test_compatible_with_brat set ... Done.\n",
      "Checking validity of CONLL BIOES format... Done.\n",
      "Load dataset... done (100.86 seconds)\n",
      "embedded_characters: Tensor(\"character_embedding/embedded_characters:0\", shape=(?, ?, 25), dtype=float32)\n",
      "embedded_tokens: Tensor(\"token_embedding/embedding_lookup:0\", shape=(?, 100), dtype=float32)\n",
      "token_lstm_input: Tensor(\"concatenate_token_and_character_vectors/token_lstm_input:0\", shape=(?, 163), dtype=float32)\n",
      "token_lstm_input_drop: Tensor(\"dropout/token_lstm_input_drop/mul:0\", shape=(?, 163), dtype=float32)\n",
      "token_lstm_input_drop_expanded: Tensor(\"dropout/token_lstm_input_drop_expanded:0\", shape=(1, ?, 163), dtype=float32)\n",
      "unary_scores_expanded: Tensor(\"crf/unary_scores_expanded:0\", shape=(1, ?, 19), dtype=float32)\n",
      "input_label_indices_flat_batch: Tensor(\"crf/input_label_indices_flat_batch:0\", shape=(1, ?), dtype=int32)\n",
      "sequence_lengths: Tensor(\"crf/sequence_lengths:0\", shape=(1,), dtype=int32)\n"
     ]
    },
    {
     "name": "stderr",
     "output_type": "stream",
     "text": [
      "C:\\Users\\linhpn.VISC\\AppData\\Local\\Continuum\\Anaconda3\\lib\\site-packages\\tensorflow\\python\\ops\\gradients_impl.py:96: UserWarning: Converting sparse IndexedSlices to a dense Tensor of unknown shape. This may consume a large amount of memory.\n",
      "  \"Converting sparse IndexedSlices to a dense Tensor of unknown shape. \"\n"
     ]
    },
    {
     "name": "stdout",
     "output_type": "stream",
     "text": [
      "Load token embeddings... done (0.16 seconds)\n",
      "number_of_token_original_case_found: 14618\n",
      "number_of_token_lowercase_found: 11723\n",
      "number_of_token_digits_replaced_with_zeros_found: 119\n",
      "number_of_token_lowercase_and_digits_replaced_with_zeros_found: 16\n",
      "number_of_loaded_word_vectors: 26476\n",
      "dataset.vocabulary_size: 28984\n"
     ]
    }
   ],
   "source": [
    "ner = NER(parameters)"
   ]
  },
  {
   "cell_type": "code",
   "execution_count": 20,
   "metadata": {
    "scrolled": true
   },
   "outputs": [
    {
     "name": "stdout",
     "output_type": "stream",
     "text": [
      "INFO:tensorflow:Restoring parameters from ../model/en/model_00000.ckpt\n"
     ]
    }
   ],
   "source": [
    "ner.restore_model_trained(parameters,model_pathfile=('../model/en/model_00000.ckpt'),\n",
    "                                        dataset_pathfile=('../model/en/dataset.pickle'),\n",
    "                                        embedding_filepath= parameters['token_pretrained_embedding_filepath'],\n",
    "                                        character_dimension = parameters['character_embedding_dimension'],\n",
    "                                        token_dimension=parameters['token_embedding_dimension'])"
   ]
  },
  {
   "cell_type": "code",
   "execution_count": 22,
   "metadata": {},
   "outputs": [
    {
     "name": "stdout",
     "output_type": "stream",
     "text": [
      "INFO:tensorflow:Restoring parameters from ../../../ML_EntityData/output/en_2018-02-28_13-55-28-670626/model/model.ckpt\n"
     ]
    }
   ],
   "source": [
    "ner.restore_model_trained(parameters,model_pathfile=('../../../ML_EntityData/output/en_2018-02-28_13-55-28-670626/model/model.ckpt'),\n",
    "                                        dataset_pathfile=('../../../ML_EntityData/output/en_2018-02-28_13-55-28-670626/model/dataset.pickle'),\n",
    "                                        embedding_filepath= parameters['token_pretrained_embedding_filepath'],\n",
    "                                        character_dimension = parameters['character_embedding_dimension'],\n",
    "                                        token_dimension=parameters['token_embedding_dimension'])"
   ]
  },
  {
   "cell_type": "code",
   "execution_count": 37,
   "metadata": {
    "scrolled": false
   },
   "outputs": [
    {
     "name": "stdout",
     "output_type": "stream",
     "text": [
      "\n",
      "Starting epoch 0\n",
      "Training completed in 0.00 seconds\n",
      "Evaluate model on the train set\n",
      "             precision    recall  f1-score   support\n",
      "\n",
      "      B-LOC     0.9990    0.9990    0.9990      1041\n",
      "     B-MISC     0.9953    0.9942    0.9948       858\n",
      "      B-ORG     0.9992    0.9976    0.9984      2485\n",
      "      B-PER     0.9995    0.9995    0.9995      4284\n",
      "      E-LOC     0.9990    0.9990    0.9990      1041\n",
      "     E-MISC     0.9988    0.9977    0.9983       858\n",
      "      E-ORG     0.9992    0.9976    0.9984      2485\n",
      "      E-PER     0.9995    0.9995    0.9995      4284\n",
      "      I-LOC     1.0000    1.0000    1.0000       116\n",
      "     I-MISC     0.9900    1.0000    0.9950       297\n",
      "      I-ORG     1.0000    0.9975    0.9988      1219\n",
      "      I-PER     1.0000    1.0000    1.0000       244\n",
      "          O     0.0000    0.0000    0.0000        21\n",
      "      S-LOC     0.9980    0.9964    0.9972      6099\n",
      "     S-MISC     0.9961    0.9946    0.9953      2580\n",
      "      S-ORG     0.9971    0.9964    0.9967      3836\n",
      "      S-PER     0.9922    0.9935    0.9929      2316\n",
      "\n",
      "avg / total     0.9974    0.9967    0.9970     34064\n",
      "\n",
      "Evaluate model on the valid set\n",
      "             precision    recall  f1-score   support\n",
      "\n",
      "      B-LOC     0.9250    0.9487    0.9367       234\n",
      "     B-MISC     0.7962    0.8210    0.8084       257\n",
      "      B-ORG     0.9002    0.8622    0.8808       450\n",
      "      B-PER     0.9886    0.9870    0.9878      1234\n",
      "      E-LOC     0.9283    0.9402    0.9342       234\n",
      "     E-MISC     0.8226    0.8482    0.8352       257\n",
      "      E-ORG     0.9188    0.8800    0.8990       450\n",
      "      E-PER     0.9862    0.9838    0.9850      1234\n",
      "      I-LOC     0.7647    0.5652    0.6500        23\n",
      "     I-MISC     0.7429    0.5843    0.6541        89\n",
      "      I-ORG     0.9186    0.9003    0.9094       301\n",
      "      I-PER     0.9623    0.6986    0.8095        73\n",
      "          O     0.0000    0.0000    0.0000       101\n",
      "      S-LOC     0.9756    0.9713    0.9734      1603\n",
      "     S-MISC     0.9237    0.9098    0.9167       665\n",
      "      S-ORG     0.9364    0.9416    0.9390       891\n",
      "      S-PER     0.8964    0.9539    0.9243       608\n",
      "\n",
      "avg / total     0.9298    0.9254    0.9272      8704\n",
      "\n",
      "Evaluate model on the test set\n",
      "             precision    recall  f1-score   support\n",
      "\n",
      "      B-LOC     0.8093    0.8966    0.8507       232\n",
      "     B-MISC     0.5755    0.6893    0.6272       177\n",
      "      B-ORG     0.8464    0.8566    0.8515       579\n",
      "      B-PER     0.9809    0.9936    0.9872      1086\n",
      "      E-LOC     0.8086    0.8922    0.8484       232\n",
      "     E-MISC     0.6085    0.7288    0.6632       177\n",
      "      E-ORG     0.8547    0.8636    0.8591       579\n",
      "      E-PER     0.9782    0.9908    0.9844      1086\n",
      "      I-LOC     0.6154    0.6400    0.6275        25\n",
      "     I-MISC     0.5000    0.6154    0.5517        39\n",
      "      I-ORG     0.7457    0.8477    0.7934       256\n",
      "      I-PER     0.9577    0.9714    0.9645        70\n",
      "          O     0.0000    0.0000    0.0000       338\n",
      "      S-LOC     0.9485    0.9359    0.9422      1436\n",
      "     S-MISC     0.8677    0.8495    0.8585       525\n",
      "      S-ORG     0.9012    0.9104    0.9057      1082\n",
      "      S-PER     0.9294    0.8927    0.9107       531\n",
      "\n",
      "avg / total     0.8611    0.8747    0.8674      8450\n",
      "\n",
      "\n",
      "Starting epoch 1\n",
      "Training completed in 289.13 seconds\n",
      "Evaluate model on the train set\n",
      "             precision    recall  f1-score   support\n",
      "\n",
      "      B-LOC     0.9981    0.9971    0.9976      1041\n",
      "     B-MISC     0.9942    0.9930    0.9936       858\n",
      "      B-ORG     0.9984    0.9960    0.9972      2485\n",
      "      B-PER     0.9988    0.9993    0.9991      4284\n",
      "      E-LOC     0.9981    0.9971    0.9976      1041\n",
      "     E-MISC     0.9988    0.9977    0.9983       858\n",
      "      E-ORG     0.9992    0.9968    0.9980      2485\n",
      "      E-PER     0.9988    0.9993    0.9991      4284\n",
      "      I-LOC     1.0000    1.0000    1.0000       116\n",
      "     I-MISC     0.9900    0.9966    0.9933       297\n",
      "      I-ORG     1.0000    0.9926    0.9963      1219\n",
      "      I-PER     1.0000    1.0000    1.0000       244\n",
      "          O     0.0000    0.0000    0.0000        29\n",
      "      S-LOC     0.9956    0.9967    0.9961      6099\n",
      "     S-MISC     0.9984    0.9915    0.9949      2580\n",
      "      S-ORG     0.9909    0.9974    0.9942      3836\n",
      "      S-PER     0.9965    0.9905    0.9935      2316\n",
      "\n",
      "avg / total     0.9961    0.9956    0.9958     34072\n",
      "\n",
      "Evaluate model on the valid set\n",
      "             precision    recall  f1-score   support\n",
      "\n",
      "      B-LOC     0.9391    0.9231    0.9310       234\n",
      "     B-MISC     0.8490    0.8093    0.8287       257\n",
      "      B-ORG     0.8894    0.8756    0.8824       450\n",
      "      B-PER     0.9862    0.9870    0.9866      1234\n",
      "      E-LOC     0.9386    0.9145    0.9264       234\n",
      "     E-MISC     0.8831    0.8521    0.8673       257\n",
      "      E-ORG     0.9116    0.8933    0.9024       450\n",
      "      E-PER     0.9838    0.9838    0.9838      1234\n",
      "      I-LOC     0.7222    0.5652    0.6341        23\n",
      "     I-MISC     0.7424    0.5506    0.6323        89\n",
      "      I-ORG     0.9082    0.8870    0.8975       301\n",
      "      I-PER     0.9623    0.6986    0.8095        73\n",
      "          O     0.0000    0.0000    0.0000        82\n",
      "      S-LOC     0.9685    0.9769    0.9727      1603\n",
      "     S-MISC     0.9479    0.9038    0.9253       665\n",
      "      S-ORG     0.9342    0.9394    0.9368       891\n",
      "      S-PER     0.9039    0.9441    0.9236       608\n",
      "\n",
      "avg / total     0.9346    0.9261    0.9299      8685\n",
      "\n",
      "Evaluate model on the test set\n",
      "             precision    recall  f1-score   support\n",
      "\n",
      "      B-LOC     0.7811    0.8922    0.8330       232\n",
      "     B-MISC     0.6183    0.6497    0.6336       177\n",
      "      B-ORG     0.8610    0.8342    0.8474       579\n",
      "      B-PER     0.9782    0.9926    0.9854      1086\n",
      "      E-LOC     0.7782    0.8922    0.8313       232\n",
      "     E-MISC     0.6684    0.7062    0.6868       177\n",
      "      E-ORG     0.8663    0.8394    0.8526       579\n",
      "      E-PER     0.9755    0.9908    0.9831      1086\n",
      "      I-LOC     0.6071    0.6800    0.6415        25\n",
      "     I-MISC     0.5750    0.5897    0.5823        39\n",
      "      I-ORG     0.7621    0.8633    0.8095       256\n",
      "      I-PER     0.9444    0.9714    0.9577        70\n",
      "          O     0.0000    0.0000    0.0000       284\n",
      "      S-LOC     0.9375    0.9408    0.9392      1436\n",
      "     S-MISC     0.8840    0.8419    0.8624       525\n",
      "      S-ORG     0.8979    0.9104    0.9041      1082\n",
      "      S-PER     0.9267    0.8814    0.9035       531\n",
      "\n",
      "avg / total     0.8676    0.8757    0.8712      8396\n",
      "\n"
     ]
    }
   ],
   "source": [
    "ner.train(parameters,0,'../../../ML_EntityData/output/en/model')"
   ]
  },
  {
   "cell_type": "code",
   "execution_count": 46,
   "metadata": {},
   "outputs": [
    {
     "name": "stdout",
     "output_type": "stream",
     "text": [
      "Formatting deploy set from BRAT to CONLL... Done.\n",
      "Converting CONLL from BIO to BIOES format... Done.\n",
      "Predict labels for the deploy set\n",
      "Formatting 000_deploy set from CONLL to BRAT... Done.\n",
      "\n",
      "text:\n",
      "Ngoc Pham  Linh\n",
      "\n",
      "entity: {'id': 'T1', 'type': 'PER', 'start': 5, 'end': 15, 'text': 'Pham Linh'}\n",
      "\n",
      "\n",
      "\n"
     ]
    },
    {
     "data": {
      "text/plain": [
       "[{'end': 15, 'id': 'T1', 'start': 5, 'text': 'Pham Linh', 'type': 'PER'}]"
      ]
     },
     "execution_count": 46,
     "metadata": {},
     "output_type": "execute_result"
    }
   ],
   "source": [
    "ner.predict('Ngoc Pham  Linh',parameters)"
   ]
  },
  {
   "cell_type": "code",
   "execution_count": 28,
   "metadata": {
    "scrolled": false
   },
   "outputs": [
    {
     "name": "stdout",
     "output_type": "stream",
     "text": [
      "Formatting deploy set from BRAT to CONLL... Done.\n",
      "Converting CONLL from BIO to BIOES format... Done.\n",
      "Predict labels for the deploy set\n",
      "Formatting 000_deploy set from CONLL to BRAT... Done.\n",
      "\n",
      "text:\n",
      "Hồ Chí Minh Vietnamese:  (About this sound listen), Saigon:  (About this sound listen); Chữ nôm: ; 19 May 1890 – 2 September 1969), born Nguyễn Sinh Cung, also known as Nguyễn Tất Thành and Nguyễn Ái Quốc, was a Vietnamese Communist revolutionary leader who was Chairman and First Secretary of the Workers' Party of Vietnam. Hồ was also Prime Minister (1945–55) and President (1945–69) of the Democratic Republic of Vietnam (North Vietnam). He was a key figure in the foundation of the Democratic Republic of Vietnam in 1945, as well as the People's Army of Vietnam (PAVN) and the Việt Cộng (NLF or VC) during the Vietnam War.Hồ Chí Minh led the Việt Minh independence movement from 1941 onward, establishing the Communist-ruled Democratic Republic of Vietnam in 1945 and defeating the French Union in 1954 at the battle of Điện Biên Phủ. He officially stepped down from power in 1965 due to health problems. After the war, Saigon, the former capital of the Republic of Vietnam, was renamed Hồ Chí Minh City.Any description of Ho's life before he came to power in Vietnam is necessarily fraught with ambiguity. He is known to have used at least 50 and perhaps as many as 200 pseudonyms. (Duiker says at least 75.) His place of birth and date of birth are products of academic consensus since neither is known with certainty. \"Official biographies and there are at least four, vary on names, dates, places and other hard facts. Unofficial biographies vary even more widely.\n",
      "\n",
      "entity: {'id': 'T1', 'type': 'MISC', 'start': 0, 'end': 22, 'text': 'Hồ Chí Minh Vietnamese'}\n",
      "entity: {'id': 'T2', 'type': 'PER', 'start': 137, 'end': 153, 'text': 'Nguyễn Sinh Cung'}\n",
      "entity: {'id': 'T3', 'type': 'PER', 'start': 176, 'end': 185, 'text': 'Tất Thành'}\n",
      "entity: {'id': 'T4', 'type': 'PER', 'start': 197, 'end': 204, 'text': 'Ái Quốc'}\n",
      "entity: {'id': 'T5', 'type': 'MISC', 'start': 212, 'end': 232, 'text': 'Vietnamese Communist'}\n",
      "entity: {'id': 'T6', 'type': 'ORG', 'start': 298, 'end': 323, 'text': \"Workers' Party of Vietnam\"}\n",
      "entity: {'id': 'T7', 'type': 'ORG', 'start': 393, 'end': 423, 'text': 'Democratic Republic of Vietnam'}\n",
      "entity: {'id': 'T8', 'type': 'LOC', 'start': 425, 'end': 438, 'text': 'North Vietnam'}\n",
      "entity: {'id': 'T9', 'type': 'ORG', 'start': 486, 'end': 516, 'text': 'Democratic Republic of Vietnam'}\n",
      "entity: {'id': 'T10', 'type': 'MISC', 'start': 541, 'end': 549, 'text': \"People's\"}\n",
      "entity: {'id': 'T11', 'type': 'ORG', 'start': 550, 'end': 565, 'text': 'Army of Vietnam'}\n",
      "entity: {'id': 'T12', 'type': 'ORG', 'start': 567, 'end': 571, 'text': 'PAVN'}\n",
      "entity: {'id': 'T13', 'type': 'MISC', 'start': 586, 'end': 590, 'text': 'Cộng'}\n",
      "entity: {'id': 'T14', 'type': 'ORG', 'start': 592, 'end': 595, 'text': 'NLF'}\n",
      "entity: {'id': 'T15', 'type': 'MISC', 'start': 599, 'end': 601, 'text': 'VC'}\n",
      "entity: {'id': 'T16', 'type': 'MISC', 'start': 614, 'end': 625, 'text': 'Vietnam War'}\n",
      "entity: {'id': 'T17', 'type': 'PER', 'start': 629, 'end': 637, 'text': 'Chí Minh'}\n",
      "entity: {'id': 'T18', 'type': 'ORG', 'start': 646, 'end': 655, 'text': 'Việt Minh'}\n",
      "entity: {'id': 'T19', 'type': 'MISC', 'start': 713, 'end': 722, 'text': 'Communist'}\n",
      "entity: {'id': 'T20', 'type': 'ORG', 'start': 729, 'end': 759, 'text': 'Democratic Republic of Vietnam'}\n",
      "entity: {'id': 'T21', 'type': 'ORG', 'start': 786, 'end': 798, 'text': 'French Union'}\n",
      "entity: {'id': 'T22', 'type': 'LOC', 'start': 829, 'end': 837, 'text': 'Biên Phủ'}\n",
      "entity: {'id': 'T23', 'type': 'PER', 'start': 924, 'end': 930, 'text': 'Saigon'}\n",
      "entity: {'id': 'T24', 'type': 'LOC', 'start': 958, 'end': 977, 'text': 'Republic of Vietnam'}\n",
      "entity: {'id': 'T25', 'type': 'LOC', 'start': 991, 'end': 1007, 'text': 'Hồ Chí Minh City'}\n",
      "entity: {'id': 'T26', 'type': 'PER', 'start': 1027, 'end': 1029, 'text': 'Ho'}\n",
      "entity: {'id': 'T27', 'type': 'LOC', 'start': 1064, 'end': 1071, 'text': 'Vietnam'}\n",
      "entity: {'id': 'T28', 'type': 'PER', 'start': 1188, 'end': 1194, 'text': 'Duiker'}\n",
      "\n",
      "\n",
      "\n"
     ]
    },
    {
     "data": {
      "text/plain": [
       "[{'end': 22,\n",
       "  'id': 'T1',\n",
       "  'start': 0,\n",
       "  'text': 'Hồ Chí Minh Vietnamese',\n",
       "  'type': 'MISC'},\n",
       " {'end': 153,\n",
       "  'id': 'T2',\n",
       "  'start': 137,\n",
       "  'text': 'Nguyễn Sinh Cung',\n",
       "  'type': 'PER'},\n",
       " {'end': 185, 'id': 'T3', 'start': 176, 'text': 'Tất Thành', 'type': 'PER'},\n",
       " {'end': 204, 'id': 'T4', 'start': 197, 'text': 'Ái Quốc', 'type': 'PER'},\n",
       " {'end': 232,\n",
       "  'id': 'T5',\n",
       "  'start': 212,\n",
       "  'text': 'Vietnamese Communist',\n",
       "  'type': 'MISC'},\n",
       " {'end': 323,\n",
       "  'id': 'T6',\n",
       "  'start': 298,\n",
       "  'text': \"Workers' Party of Vietnam\",\n",
       "  'type': 'ORG'},\n",
       " {'end': 423,\n",
       "  'id': 'T7',\n",
       "  'start': 393,\n",
       "  'text': 'Democratic Republic of Vietnam',\n",
       "  'type': 'ORG'},\n",
       " {'end': 438,\n",
       "  'id': 'T8',\n",
       "  'start': 425,\n",
       "  'text': 'North Vietnam',\n",
       "  'type': 'LOC'},\n",
       " {'end': 516,\n",
       "  'id': 'T9',\n",
       "  'start': 486,\n",
       "  'text': 'Democratic Republic of Vietnam',\n",
       "  'type': 'ORG'},\n",
       " {'end': 549, 'id': 'T10', 'start': 541, 'text': \"People's\", 'type': 'MISC'},\n",
       " {'end': 565,\n",
       "  'id': 'T11',\n",
       "  'start': 550,\n",
       "  'text': 'Army of Vietnam',\n",
       "  'type': 'ORG'},\n",
       " {'end': 571, 'id': 'T12', 'start': 567, 'text': 'PAVN', 'type': 'ORG'},\n",
       " {'end': 590, 'id': 'T13', 'start': 586, 'text': 'Cộng', 'type': 'MISC'},\n",
       " {'end': 595, 'id': 'T14', 'start': 592, 'text': 'NLF', 'type': 'ORG'},\n",
       " {'end': 601, 'id': 'T15', 'start': 599, 'text': 'VC', 'type': 'MISC'},\n",
       " {'end': 625,\n",
       "  'id': 'T16',\n",
       "  'start': 614,\n",
       "  'text': 'Vietnam War',\n",
       "  'type': 'MISC'},\n",
       " {'end': 637, 'id': 'T17', 'start': 629, 'text': 'Chí Minh', 'type': 'PER'},\n",
       " {'end': 655, 'id': 'T18', 'start': 646, 'text': 'Việt Minh', 'type': 'ORG'},\n",
       " {'end': 722, 'id': 'T19', 'start': 713, 'text': 'Communist', 'type': 'MISC'},\n",
       " {'end': 759,\n",
       "  'id': 'T20',\n",
       "  'start': 729,\n",
       "  'text': 'Democratic Republic of Vietnam',\n",
       "  'type': 'ORG'},\n",
       " {'end': 798,\n",
       "  'id': 'T21',\n",
       "  'start': 786,\n",
       "  'text': 'French Union',\n",
       "  'type': 'ORG'},\n",
       " {'end': 837, 'id': 'T22', 'start': 829, 'text': 'Biên Phủ', 'type': 'LOC'},\n",
       " {'end': 930, 'id': 'T23', 'start': 924, 'text': 'Saigon', 'type': 'PER'},\n",
       " {'end': 977,\n",
       "  'id': 'T24',\n",
       "  'start': 958,\n",
       "  'text': 'Republic of Vietnam',\n",
       "  'type': 'LOC'},\n",
       " {'end': 1007,\n",
       "  'id': 'T25',\n",
       "  'start': 991,\n",
       "  'text': 'Hồ Chí Minh City',\n",
       "  'type': 'LOC'},\n",
       " {'end': 1029, 'id': 'T26', 'start': 1027, 'text': 'Ho', 'type': 'PER'},\n",
       " {'end': 1071, 'id': 'T27', 'start': 1064, 'text': 'Vietnam', 'type': 'LOC'},\n",
       " {'end': 1194, 'id': 'T28', 'start': 1188, 'text': 'Duiker', 'type': 'PER'}]"
      ]
     },
     "execution_count": 28,
     "metadata": {},
     "output_type": "execute_result"
    }
   ],
   "source": [
    "ner.predict(\"Hồ Chí Minh Vietnamese:  (About this sound listen), Saigon:  (About this sound listen); Chữ nôm: ; 19 May 1890 – 2 September 1969), born Nguyễn Sinh Cung, also known as Nguyễn Tất Thành and Nguyễn Ái Quốc, was a Vietnamese Communist revolutionary leader who was Chairman and First Secretary of the Workers' Party of Vietnam. Hồ was also Prime Minister (1945–55) and President (1945–69) of the Democratic Republic of Vietnam (North Vietnam). He was a key figure in the foundation of the Democratic Republic of Vietnam in 1945, as well as the People's Army of Vietnam (PAVN) and the Việt Cộng (NLF or VC) during the Vietnam War.Hồ Chí Minh led the Việt Minh independence movement from 1941 onward, establishing the Communist-ruled Democratic Republic of Vietnam in 1945 and defeating the French Union in 1954 at the battle of Điện Biên Phủ. He officially stepped down from power in 1965 due to health problems. After the war, Saigon, the former capital of the Republic of Vietnam, was renamed Hồ Chí Minh City.Any description of Ho's life before he came to power in Vietnam is necessarily fraught with ambiguity. He is known to have used at least 50 and perhaps as many as 200 pseudonyms. (Duiker says at least 75.) His place of birth and date of birth are products of academic consensus since neither is known with certainty. \\\"Official biographies and there are at least four, vary on names, dates, places and other hard facts. Unofficial biographies vary even more widely.\",parameters)"
   ]
  }
 ],
 "metadata": {
  "kernelspec": {
   "display_name": "Python 3",
   "language": "python",
   "name": "python3"
  },
  "language_info": {
   "codemirror_mode": {
    "name": "ipython",
    "version": 3
   },
   "file_extension": ".py",
   "mimetype": "text/x-python",
   "name": "python",
   "nbconvert_exporter": "python",
   "pygments_lexer": "ipython3",
   "version": "3.6.1"
  }
 },
 "nbformat": 4,
 "nbformat_minor": 2
}
