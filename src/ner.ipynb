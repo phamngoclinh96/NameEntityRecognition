{
 "cells": [
  {
   "cell_type": "code",
   "execution_count": 1,
   "metadata": {
    "scrolled": true
   },
   "outputs": [
    {
     "name": "stderr",
     "output_type": "stream",
     "text": [
      "C:\\Users\\linhpn.VISC\\AppData\\Local\\Continuum\\Anaconda3\\lib\\site-packages\\h5py\\__init__.py:34: FutureWarning: Conversion of the second argument of issubdtype from `float` to `np.floating` is deprecated. In future, it will be treated as `np.float64 == np.dtype(float).type`.\n",
      "  from ._conv import register_converters as _register_converters\n"
     ]
    }
   ],
   "source": [
    "import ner\n",
    "import os\n",
    "path_model = '../model/en'"
   ]
  },
  {
   "cell_type": "code",
   "execution_count": 3,
   "metadata": {},
   "outputs": [
    {
     "name": "stdout",
     "output_type": "stream",
     "text": [
      "embedded_characters: Tensor(\"character_embedding/embedded_characters:0\", shape=(?, ?, 25), dtype=float32)\n",
      "embedded_tokens: Tensor(\"token_embedding/embedding_lookup:0\", shape=(?, 100), dtype=float32)\n",
      "token_lstm_input: Tensor(\"concatenate_token_and_character_vectors/token_lstm_input:0\", shape=(?, 163), dtype=float32)\n",
      "token_lstm_input_drop: Tensor(\"dropout/token_lstm_input_drop/mul:0\", shape=(?, 163), dtype=float32)\n",
      "token_lstm_input_drop_expanded: Tensor(\"dropout/token_lstm_input_drop_expanded:0\", shape=(1, ?, 163), dtype=float32)\n",
      "unary_scores_expanded: Tensor(\"crf/unary_scores_expanded:0\", shape=(1, ?, 19), dtype=float32)\n",
      "input_label_indices_flat_batch: Tensor(\"crf/input_label_indices_flat_batch:0\", shape=(1, ?), dtype=int32)\n",
      "sequence_lengths: Tensor(\"crf/sequence_lengths:0\", shape=(1,), dtype=int32)\n"
     ]
    },
    {
     "name": "stderr",
     "output_type": "stream",
     "text": [
      "C:\\Users\\linhpn.VISC\\AppData\\Local\\Continuum\\Anaconda3\\lib\\site-packages\\tensorflow\\python\\ops\\gradients_impl.py:96: UserWarning: Converting sparse IndexedSlices to a dense Tensor of unknown shape. This may consume a large amount of memory.\n",
      "  \"Converting sparse IndexedSlices to a dense Tensor of unknown shape. \"\n"
     ]
    },
    {
     "name": "stdout",
     "output_type": "stream",
     "text": [
      "Load token embeddings... done (0.15 seconds)\n",
      "number_of_token_original_case_found: 14618\n",
      "number_of_token_lowercase_found: 11723\n",
      "number_of_token_digits_replaced_with_zeros_found: 119\n",
      "number_of_token_lowercase_and_digits_replaced_with_zeros_found: 16\n",
      "number_of_loaded_word_vectors: 26476\n",
      "dataset.vocabulary_size: 28984\n",
      "INFO:tensorflow:Restoring parameters from ../model/en\\model.ckpt\n"
     ]
    }
   ],
   "source": [
    "model = ner.restore_model_trained(model_folder = path_model,\n",
    "                                        embedding_filepath='../../../ML_EntityData/embedding/en/glove.6B.100d.txt')"
   ]
  },
  {
   "cell_type": "code",
   "execution_count": 2,
   "metadata": {
    "collapsed": true
   },
   "outputs": [],
   "source": [
    "parameters = {#'pretrained_model_folder':'../model', \n",
    "                      'dataset_text_folder':'../../../ML_EntityData/data/en', \n",
    "                      'character_embedding_dimension':25, \n",
    "                      'character_lstm_hidden_state_dimension':25, \n",
    "                      'check_for_digits_replaced_with_zeros':True, \n",
    "                      'check_for_lowercase':True, \n",
    "#                       'debug':False,\n",
    "#                       'dropout_rate':0.5,\n",
    "#                       'experiment_name':'test',\n",
    "                      'freeze_token_embeddings':False,\n",
    "                      'gradient_clipping_value':5.0,\n",
    "                      'learning_rate':0.005,\n",
    "#                       'load_only_pretrained_token_embeddings':False,\n",
    "#                       'load_all_pretrained_token_embeddings':False,\n",
    "#                       'main_evaluation_mode':'conll',\n",
    "                      'maximum_number_of_epochs':500,\n",
    "#                       'number_of_cpu_threads':8,\n",
    "#                       'number_of_gpus':0,\n",
    "                      'optimizer':'sgd',\n",
    "#                       'output_folder':'../../../ML_EntityData/output',\n",
    "#                       'patience':10,\n",
    "#                       'plot_format':'pdf',\n",
    "#                       'reload_character_embeddings':True,\n",
    "#                       'reload_character_lstm':True,\n",
    "#                       'reload_crf':True,\n",
    "#                       'reload_feedforward':True,\n",
    "#                       'reload_token_embeddings':True,\n",
    "#                       'reload_token_lstm':True,\n",
    "#                       'remap_unknown_tokens_to_unk':True,\n",
    "#                       'spacylanguage':'en',\n",
    "#                       'tagging_format':'bioes',\n",
    "                      'token_embedding_dimension':100,\n",
    "                      'token_lstm_hidden_state_dimension':100,\n",
    "                      'token_pretrained_embedding_filepath':'../../../ML_EntityData/embedding/en/glove.6B.100d.txt',\n",
    "#                       'tokenizer':'spacy',\n",
    "#                       'train_model':True,\n",
    "#                       'use_character_lstm':True,\n",
    "#                       'use_crf':True,\n",
    "#                       'use_pretrained_model':False,\n",
    "                      'verbose':False}"
   ]
  },
  {
   "cell_type": "code",
   "execution_count": 3,
   "metadata": {
    "collapsed": true
   },
   "outputs": [],
   "source": [
    "import utils_nlp\n",
    "import pickle\n",
    "# dataset_filepaths, dataset_brat_folders = utils.get_valid_dataset_filepaths(parameters)\n",
    "# dataset = ds.DatasetP(verbose=False, debug=False)\n",
    "token_to_vector = utils_nlp.load_pretrained_token_embeddings(parameters['token_pretrained_embedding_filepath'])\n",
    "dataset = pickle.load(open('../model/en/dataset.pickle', 'rb'))"
   ]
  },
  {
   "cell_type": "code",
   "execution_count": 3,
   "metadata": {
    "scrolled": false
   },
   "outputs": [
    {
     "name": "stdout",
     "output_type": "stream",
     "text": [
      "Checking the validity of BRAT-formatted train set... Done.\n",
      "Checking compatibility between CONLL and BRAT for train_compatible_with_brat set ... Done.\n",
      "Checking validity of CONLL BIOES format... Done.\n",
      "Checking the validity of BRAT-formatted valid set... Done.\n",
      "Checking compatibility between CONLL and BRAT for valid_compatible_with_brat set ... Done.\n",
      "Checking validity of CONLL BIOES format... Done.\n",
      "Checking the validity of BRAT-formatted test set... Done.\n",
      "Checking compatibility between CONLL and BRAT for test_compatible_with_brat set ... Done.\n",
      "Checking validity of CONLL BIOES format... Done.\n",
      "Load dataset... done (47.32 seconds)\n",
      "embedded_characters: Tensor(\"character_embedding/embedded_characters:0\", shape=(?, ?, 25), dtype=float32)\n",
      "embedded_tokens: Tensor(\"token_embedding/embedding_lookup:0\", shape=(?, 100), dtype=float32)\n",
      "token_lstm_input: Tensor(\"concatenate_token_and_character_vectors/token_lstm_input:0\", shape=(?, 163), dtype=float32)\n",
      "token_lstm_input_drop: Tensor(\"dropout/token_lstm_input_drop/mul:0\", shape=(?, 163), dtype=float32)\n",
      "token_lstm_input_drop_expanded: Tensor(\"dropout/token_lstm_input_drop_expanded:0\", shape=(1, ?, 163), dtype=float32)\n",
      "unary_scores_expanded: Tensor(\"crf/unary_scores_expanded:0\", shape=(1, ?, 19), dtype=float32)\n",
      "input_label_indices_flat_batch: Tensor(\"crf/input_label_indices_flat_batch:0\", shape=(1, ?), dtype=int32)\n",
      "sequence_lengths: Tensor(\"crf/sequence_lengths:0\", shape=(1,), dtype=int32)\n"
     ]
    },
    {
     "name": "stderr",
     "output_type": "stream",
     "text": [
      "C:\\Users\\linhpn.VISC\\AppData\\Local\\Continuum\\Anaconda3\\lib\\site-packages\\tensorflow\\python\\ops\\gradients_impl.py:96: UserWarning: Converting sparse IndexedSlices to a dense Tensor of unknown shape. This may consume a large amount of memory.\n",
      "  \"Converting sparse IndexedSlices to a dense Tensor of unknown shape. \"\n"
     ]
    },
    {
     "name": "stdout",
     "output_type": "stream",
     "text": [
      "Load token embeddings... done (0.17 seconds)\n",
      "number_of_token_original_case_found: 14618\n",
      "number_of_token_lowercase_found: 11723\n",
      "number_of_token_digits_replaced_with_zeros_found: 119\n",
      "number_of_token_lowercase_and_digits_replaced_with_zeros_found: 16\n",
      "number_of_loaded_word_vectors: 26476\n",
      "dataset.vocabulary_size: 28984\n"
     ]
    }
   ],
   "source": [
    "model = ner.NER(parameters)"
   ]
  },
  {
   "cell_type": "code",
   "execution_count": 6,
   "metadata": {
    "scrolled": true
   },
   "outputs": [
    {
     "name": "stdout",
     "output_type": "stream",
     "text": [
      "INFO:tensorflow:Restoring parameters from ../model/en/model.ckpt\n"
     ]
    }
   ],
   "source": [
    "ner.restore_model_trained(model_pathfile=('../model/en/model.ckpt'),\n",
    "                                        dataset_pathfile=('../model/en/dataset.pickle'),\n",
    "                                        embedding_filepath= parameters['token_pretrained_embedding_filepath'],\n",
    "                                        character_dimension = parameters['character_embedding_dimension'],\n",
    "                                        token_dimension=parameters['token_embedding_dimension'])"
   ]
  },
  {
   "cell_type": "code",
   "execution_count": 4,
   "metadata": {
    "scrolled": false
   },
   "outputs": [
    {
     "name": "stdout",
     "output_type": "stream",
     "text": [
      "\n",
      "Starting epoch 0\n",
      "Training completed in 0.00 seconds\n",
      "Evaluate model on the train set\n",
      "             precision    recall  f1-score   support\n",
      "\n",
      "      B-LOC     0.0462    0.3510    0.0817      7140\n",
      "     B-MISC     0.0136    0.1417    0.0248      3438\n",
      "      B-ORG     0.0770    0.3490    0.1261      6321\n",
      "      B-PER     0.0341    0.2009    0.0583      6600\n",
      "      I-LOC     0.0060    0.2074    0.0118      1157\n",
      "     I-MISC     0.0000    0.0000    0.0000      1155\n",
      "      I-ORG     0.0000    0.0000    0.0000      3704\n",
      "      I-PER     0.0152    0.0208    0.0176      4528\n",
      "          O     0.0000    0.0000    0.0000    169498\n",
      "\n",
      "avg / total     0.0057    0.0337    0.0095    203541\n",
      "\n",
      "Evaluate model on the valid set\n",
      "             precision    recall  f1-score   support\n",
      "\n",
      "      B-LOC     0.0417    0.3125    0.0735      1837\n",
      "     B-MISC     0.0142    0.1475    0.0259       922\n",
      "      B-ORG     0.0620    0.3378    0.1048      1341\n",
      "      B-PER     0.0377    0.1982    0.0633      1842\n",
      "      I-LOC     0.0048    0.1712    0.0093       257\n",
      "     I-MISC     0.0000    0.0000    0.0000       346\n",
      "      I-ORG     0.0000    0.0000    0.0000       751\n",
      "      I-PER     0.0137    0.0184    0.0157      1307\n",
      "          O     0.0000    0.0000    0.0000     42748\n",
      "\n",
      "avg / total     0.0051    0.0311    0.0085     51351\n",
      "\n",
      "Evaluate model on the test set\n",
      "             precision    recall  f1-score   support\n",
      "\n",
      "      B-LOC     0.0433    0.3315    0.0765      1668\n",
      "     B-MISC     0.0122    0.1339    0.0223       702\n",
      "      B-ORG     0.0987    0.4016    0.1584      1661\n",
      "      B-PER     0.0425    0.2381    0.0722      1617\n",
      "      I-LOC     0.0038    0.1323    0.0074       257\n",
      "     I-MISC     0.0000    0.0000    0.0000       216\n",
      "      I-ORG     0.0000    0.0000    0.0000       835\n",
      "      I-PER     0.0125    0.0121    0.0123      1156\n",
      "          O     0.0000    0.0000    0.0000     38312\n",
      "\n",
      "avg / total     0.0071    0.0376    0.0116     46424\n",
      "\n",
      "\n",
      "Starting epoch 1\n",
      "Training completed in 294.44 seconds\n",
      "Evaluate model on the train set\n",
      "             precision    recall  f1-score   support\n",
      "\n",
      "      B-LOC     0.8063    0.9127    0.8562      7140\n",
      "     B-MISC     0.6196    0.7653    0.6848      3438\n",
      "      B-ORG     0.7073    0.6953    0.7012      6321\n",
      "      B-PER     0.6845    0.9344    0.7902      6600\n",
      "      I-LOC     0.7748    0.5799    0.6634      1157\n",
      "     I-MISC     0.6881    0.2866    0.4046      1155\n",
      "      I-ORG     0.8874    0.3618    0.5140      3704\n",
      "      I-PER     0.9560    0.5044    0.6604      4528\n",
      "          O     0.0000    0.0000    0.0000      1257\n",
      "\n",
      "avg / total     0.7417    0.6894    0.6868     35300\n",
      "\n",
      "Evaluate model on the valid set\n",
      "             precision    recall  f1-score   support\n",
      "\n",
      "      B-LOC     0.8124    0.9287    0.8666      1837\n",
      "     B-MISC     0.6428    0.7885    0.7082       922\n",
      "      B-ORG     0.7155    0.6659    0.6898      1341\n",
      "      B-PER     0.6991    0.9522    0.8063      1842\n",
      "      I-LOC     0.7363    0.5214    0.6105       257\n",
      "     I-MISC     0.6918    0.2919    0.4106       346\n",
      "      I-ORG     0.8699    0.2850    0.4293       751\n",
      "      I-PER     0.9563    0.5356    0.6866      1307\n",
      "          O     0.0000    0.0000    0.0000       303\n",
      "\n",
      "avg / total     0.7483    0.6994    0.6932      8906\n",
      "\n",
      "Evaluate model on the test set\n",
      "             precision    recall  f1-score   support\n",
      "\n",
      "      B-LOC     0.7606    0.9011    0.8249      1668\n",
      "     B-MISC     0.5288    0.7578    0.6230       702\n",
      "      B-ORG     0.7016    0.6725    0.6868      1661\n",
      "      B-PER     0.6792    0.9190    0.7811      1617\n",
      "      I-LOC     0.7415    0.5914    0.6580       257\n",
      "     I-MISC     0.5602    0.4306    0.4869       216\n",
      "      I-ORG     0.8681    0.2994    0.4452       835\n",
      "      I-PER     0.9555    0.5199    0.6734      1156\n",
      "          O     0.0000    0.0000    0.0000       470\n",
      "\n",
      "avg / total     0.7043    0.6681    0.6574      8582\n",
      "\n",
      "\n",
      "Starting epoch 2\n",
      "Training completed in 292.63 seconds\n",
      "Evaluate model on the train set\n",
      "             precision    recall  f1-score   support\n",
      "\n",
      "      B-LOC     0.8930    0.8683    0.8805      7140\n",
      "     B-MISC     0.5603    0.8709    0.6818      3438\n",
      "      B-ORG     0.7011    0.7937    0.7445      6321\n",
      "      B-PER     0.7850    0.9568    0.8624      6600\n",
      "      I-LOC     0.9286    0.4607    0.6158      1157\n",
      "     I-MISC     0.7345    0.4909    0.5885      1155\n",
      "      I-ORG     0.9043    0.4719    0.6202      3704\n",
      "      I-PER     0.9595    0.7648    0.8512      4528\n",
      "          O     0.0000    0.0000    0.0000      1463\n",
      "\n",
      "avg / total     0.7754    0.7558    0.7484     35506\n",
      "\n",
      "Evaluate model on the valid set\n",
      "             precision    recall  f1-score   support\n",
      "\n",
      "      B-LOC     0.8993    0.8802    0.8897      1837\n",
      "     B-MISC     0.5856    0.8753    0.7017       922\n",
      "      B-ORG     0.7077    0.7927    0.7478      1341\n",
      "      B-PER     0.7826    0.9577    0.8613      1842\n",
      "      I-LOC     0.9386    0.4163    0.5768       257\n",
      "     I-MISC     0.7241    0.4855    0.5813       346\n",
      "      I-ORG     0.8658    0.4381    0.5818       751\n",
      "      I-PER     0.9686    0.7314    0.8335      1307\n",
      "          O     0.0000    0.0000    0.0000       313\n",
      "\n",
      "avg / total     0.7840    0.7639    0.7567      8916\n",
      "\n",
      "Evaluate model on the test set\n",
      "             precision    recall  f1-score   support\n",
      "\n",
      "      B-LOC     0.8512    0.8507    0.8510      1668\n",
      "     B-MISC     0.4633    0.8262    0.5937       702\n",
      "      B-ORG     0.6885    0.7784    0.7307      1661\n",
      "      B-PER     0.7884    0.9468    0.8604      1617\n",
      "      I-LOC     0.9084    0.4630    0.6134       257\n",
      "     I-MISC     0.5787    0.5278    0.5521       216\n",
      "      I-ORG     0.8768    0.4431    0.5887       835\n",
      "      I-PER     0.9692    0.7630    0.8538      1156\n",
      "          O     0.0000    0.0000    0.0000       536\n",
      "\n",
      "avg / total     0.7371    0.7294    0.7165      8648\n",
      "\n"
     ]
    }
   ],
   "source": [
    "model.train(4,'../../../ML_EntityData/output/en/model')"
   ]
  },
  {
   "cell_type": "code",
   "execution_count": 16,
   "metadata": {},
   "outputs": [
    {
     "data": {
      "text/plain": [
       "[('Jon Jgo Linh', 'PER')]"
      ]
     },
     "execution_count": 16,
     "metadata": {},
     "output_type": "execute_result"
    }
   ],
   "source": [
    "_ , entitys = model.quick_predict('my name is Jon Jgo Linh.')\n",
    "entitys"
   ]
  },
  {
   "cell_type": "code",
   "execution_count": 11,
   "metadata": {
    "scrolled": false
   },
   "outputs": [
    {
     "data": {
      "text/plain": [
       "[('Birth', 'PER'),\n",
       " ('Sex Male Address', 'ORG'),\n",
       " ('Thai Hoc Street', 'LOC'),\n",
       " ('Ba Dinh', 'LOC'),\n",
       " ('Hanoi', 'LOC'),\n",
       " ('iOS Developer', 'ORG'),\n",
       " ('iOS', 'LOC'),\n",
       " ('watchOS', 'LOC'),\n",
       " ('OS X & tvOS', 'ORG'),\n",
       " ('Swift', 'MISC'),\n",
       " ('iOS', 'MISC'),\n",
       " ('ITSOL JSC', 'ORG'),\n",
       " ('Emotiv', 'LOC'),\n",
       " ('Silicon Valley', 'LOC'),\n",
       " ('iOS', 'ORG'),\n",
       " ('Metal Commands', 'ORG'),\n",
       " ('SDK', 'ORG'),\n",
       " ('Swift', 'MISC'),\n",
       " ('iOS Intern', 'ORG'),\n",
       " ('FPT Software', 'ORG'),\n",
       " ('Vietnam', 'LOC'),\n",
       " ('Core', 'ORG'),\n",
       " ('Swift', 'PER'),\n",
       " ('Event Organizer', 'PER'),\n",
       " ('CSSA', 'ORG'),\n",
       " ('iOS', 'MISC'),\n",
       " ('Techmaster', 'ORG'),\n",
       " ('iOS', 'ORG'),\n",
       " ('iOS', 'MISC'),\n",
       " ('Techmaster Vietnam', 'LOC'),\n",
       " ('Vietnam', 'LOC'),\n",
       " ('Trinh Minh Cuong', 'PER'),\n",
       " ('Swift', 'MISC'),\n",
       " ('iOS', 'LOC'),\n",
       " ('Projects Freelancer', 'PER'),\n",
       " ('US', 'LOC'),\n",
       " ('Japanese', 'MISC'),\n",
       " ('UI', 'ORG'),\n",
       " ('Presena', 'LOC'),\n",
       " ('Hubnami', 'LOC'),\n",
       " ('WIXI', 'ORG'),\n",
       " ('Skills iOS Development', 'ORG'),\n",
       " ('MVC', 'ORG'),\n",
       " ('MVC', 'ORG'),\n",
       " ('MVC', 'ORG'),\n",
       " ('RS', 'ORG'),\n",
       " ('MVVM', 'ORG'),\n",
       " ('Singleton', 'ORG'),\n",
       " ('Pool', 'ORG'),\n",
       " ('Memento', 'ORG'),\n",
       " ('SOLID', 'ORG'),\n",
       " ('DRY', 'ORG'),\n",
       " ('Debugging', 'LOC'),\n",
       " ('Optimization', 'LOC'),\n",
       " ('Instrumenting', 'LOC'),\n",
       " ('Unit Testing', 'ORG'),\n",
       " ('CI', 'ORG'),\n",
       " ('CoreData', 'LOC'),\n",
       " ('SQLite', 'LOC'),\n",
       " ('Realm', 'LOC'),\n",
       " ('Cocoa', 'LOC'),\n",
       " ('UIKit', 'ORG'),\n",
       " ('AutoLayout', 'LOC'),\n",
       " ('Storyboards', 'LOC'),\n",
       " ('CoreServices', 'LOC'),\n",
       " ('API', 'ORG'),\n",
       " ('OAuth2.0', 'ORG'),\n",
       " ('JSON', 'LOC'),\n",
       " ('XML', 'LOC'),\n",
       " ('HMTL', 'LOC'),\n",
       " ('Delegation', 'LOC'),\n",
       " ('Protocol', 'ORG'),\n",
       " ('Functional Programming', 'PER'),\n",
       " ('React', 'LOC'),\n",
       " ('Cocoapods', 'LOC'),\n",
       " ('Carthage', 'LOC'),\n",
       " ('Alamofire', 'PER'),\n",
       " ('SwiftyJSON', 'LOC'),\n",
       " ('KeychainAcess', 'LOC'),\n",
       " ('LockSmith', 'LOC'),\n",
       " ('Charts', 'LOC'),\n",
       " ('FBSDK', 'LOC'),\n",
       " ('Google API', 'ORG'),\n",
       " ('AppStore', 'MISC'),\n",
       " ('Tools Postman', 'PER'),\n",
       " ('Google Chrome', 'PER'),\n",
       " ('HTTP', 'ORG'),\n",
       " ('Balsamiq', 'LOC'),\n",
       " ('Sketch', 'LOC'),\n",
       " ('Ninjamocks', 'LOC'),\n",
       " ('SourceTree', 'LOC'),\n",
       " ('Github', 'LOC'),\n",
       " ('Git', 'MISC'),\n",
       " ('NewRelic', 'LOC'),\n",
       " ('Fabric', 'LOC'),\n",
       " ('Sentry', 'LOC'),\n",
       " ('Slack', 'LOC'),\n",
       " ('Trello', 'LOC'),\n",
       " ('Moxtra', 'LOC'),\n",
       " ('Asana', 'LOC'),\n",
       " ('PivotalTracker', 'MISC'),\n",
       " ('English', 'MISC'),\n",
       " ('English', 'MISC'),\n",
       " ('Vietnamese', 'MISC'),\n",
       " ('Vietnam', 'LOC'),\n",
       " ('iOS Developer', 'ORG'),\n",
       " ('Hanoi University of Science and Technology', 'ORG'),\n",
       " ('Electronics and Telecommunications', 'ORG')]"
      ]
     },
     "execution_count": 11,
     "metadata": {},
     "output_type": "execute_result"
    }
   ],
   "source": [
    "import codecs\n",
    "text_filepath = '../data/test/cv.txt'\n",
    "with codecs.open(text_filepath, 'r', 'UTF-8') as f:\n",
    "    text = f.read()\n",
    "_,entitys = model.quick_predict(text)\n",
    "entitys"
   ]
  },
  {
   "cell_type": "code",
   "execution_count": 8,
   "metadata": {
    "collapsed": true,
    "scrolled": true
   },
   "outputs": [],
   "source": [
    "import sklearn.metrics as metrics\n"
   ]
  },
  {
   "cell_type": "code",
   "execution_count": 9,
   "metadata": {
    "collapsed": true
   },
   "outputs": [],
   "source": [
    "y1=[1,2,3,4,2,3,4]\n",
    "y2=[2,1,3,3,2,3,4]"
   ]
  },
  {
   "cell_type": "code",
   "execution_count": 15,
   "metadata": {},
   "outputs": [
    {
     "data": {
      "text/plain": [
       "[0.62, 0.57, 0.56, 7.0]"
      ]
     },
     "execution_count": 15,
     "metadata": {},
     "output_type": "execute_result"
    }
   ],
   "source": [
    "[float(t) for t in [t for t in metrics.classification_report(y1,y2).split('\\n')[-2].split(' ') if len(t)>0][-4:]]"
   ]
  },
  {
   "cell_type": "code",
   "execution_count": 12,
   "metadata": {},
   "outputs": [
    {
     "data": {
      "text/plain": [
       "1.0"
      ]
     },
     "execution_count": 12,
     "metadata": {},
     "output_type": "execute_result"
    }
   ],
   "source": [
    "float('1')"
   ]
  }
 ],
 "metadata": {
  "kernelspec": {
   "display_name": "Python 3",
   "language": "python",
   "name": "python3"
  },
  "language_info": {
   "codemirror_mode": {
    "name": "ipython",
    "version": 3
   },
   "file_extension": ".py",
   "mimetype": "text/x-python",
   "name": "python",
   "nbconvert_exporter": "python",
   "pygments_lexer": "ipython3",
   "version": "3.6.1"
  }
 },
 "nbformat": 4,
 "nbformat_minor": 2
}
