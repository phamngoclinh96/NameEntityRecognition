{
 "cells": [
  {
   "cell_type": "code",
   "execution_count": 18,
   "metadata": {
    "collapsed": true
   },
   "outputs": [],
   "source": [
    "import re\n",
    "import codecs"
   ]
  },
  {
   "cell_type": "code",
   "execution_count": 16,
   "metadata": {
    "collapsed": true
   },
   "outputs": [],
   "source": [
    "pattern_number = r\"[0-9]+\"\n",
    "pattern_hex = r\"(?:[0-9a-fA-F][0-9a-fA-F])+\"\n",
    "pattern_email = r\"([a-zA-Z0-9][a-zA-Z0-9_.+-]*@[a-zA-Z0-9-]+(?:\\.[a-zA-Z0-9-]+)+)\"\n",
    "pattern_url = r\"(?:ftp|http|https)?://(?:[a-zA-Z]|[0-9]|[$-_@.&+]|[!*\\(\\),]|(?:%[0-9a-fA-F][0-9a-fA-F]))+\"\n",
    "pattern_domain = r\"[a-zA-Z0-9-]+(?:\\.[a-zA-Z0-9-]+)+\"\n",
    "pattern_ip = r\"(?:[0-9]+\\.)+[0-9]+\"\n",
    "pattern_ipv4 = r\"(?:[0-9]+\\.){3}[0-9]+\"\n",
    "pattern_ipv6 = r\"(?:[0-9]+\\.){5}[0-9]+\"\n",
    "pattern_asnumber = r\"(?:AS|as)[0-9]+\"\n",
    "pattern_cve = r\"(?:CVE|exploit)\"\n",
    "pattern_registry = r\"(?:HK|hk)[a-zA-Z0-9/]+\"\n",
    "pattern_phone = r\"[0-9]{10,12}\""
   ]
  },
  {
   "cell_type": "code",
   "execution_count": 20,
   "metadata": {},
   "outputs": [
    {
     "data": {
      "text/plain": [
       "['123213123213']"
      ]
     },
     "execution_count": 20,
     "metadata": {},
     "output_type": "execute_result"
    }
   ],
   "source": [
    "t='123213123213122321312 321 31 23 12'\n",
    "re.findall(pattern_phone,t)"
   ]
  },
  {
   "cell_type": "code",
   "execution_count": 145,
   "metadata": {},
   "outputs": [
    {
     "data": {
      "text/plain": [
       "['hk213/1231']"
      ]
     },
     "execution_count": 145,
     "metadata": {},
     "output_type": "execute_result"
    }
   ],
   "source": [
    "hk = 'hk213/1231'\n",
    "re.findall(pattern_registry,hk)"
   ]
  },
  {
   "cell_type": "code",
   "execution_count": 135,
   "metadata": {},
   "outputs": [
    {
     "data": {
      "text/plain": [
       "['as213123', 'AS213123']"
      ]
     },
     "execution_count": 135,
     "metadata": {},
     "output_type": "execute_result"
    }
   ],
   "source": [
    "asn ='as213123 AS213123 nsada'\n",
    "re.findall(pattern_asnumber,asn)"
   ]
  },
  {
   "cell_type": "code",
   "execution_count": 138,
   "metadata": {},
   "outputs": [
    {
     "data": {
      "text/plain": [
       "<_sre.SRE_Match object; span=(0, 16), match='123.213.3123.221'>"
      ]
     },
     "execution_count": 138,
     "metadata": {},
     "output_type": "execute_result"
    }
   ],
   "source": [
    "ip = '123.213.3123.221.213 sdf.sdf.sdfsf'\n",
    "re.match(pattern_ipv4,ip)"
   ]
  },
  {
   "cell_type": "code",
   "execution_count": 152,
   "metadata": {
    "collapsed": true
   },
   "outputs": [],
   "source": [
    "url = 'hah http://ftp://123.3213ahaha.http://google.com.vn.\\sadsad/a=?dsada fsdf' #codecs.open('../../../ML_EntityData/text/doc00.txt','r', encoding='utf-8').read()\n",
    "\n",
    "\n"
   ]
  },
  {
   "cell_type": "code",
   "execution_count": 155,
   "metadata": {},
   "outputs": [
    {
     "name": "stdout",
     "output_type": "stream",
     "text": [
      "['http://ftp://123.3213ahaha.http://google.com.vn.\\\\sadsad/a=?dsada']\n"
     ]
    }
   ],
   "source": [
    "urls = re.findall(pattern_url, url)\n",
    "print(urls)"
   ]
  },
  {
   "cell_type": "code",
   "execution_count": 121,
   "metadata": {},
   "outputs": [
    {
     "name": "stdout",
     "output_type": "stream",
     "text": [
      "['ec', 'ec', 'ec', 'D2CBA65440', '77094A27E0', '77094A27', '77', '77094A27E0', 'ec', '12312a']\n"
     ]
    }
   ],
   "source": [
    "text = \"\"\"\n",
    "<input type=\"checkbox\" name=\"checkbox\" id=\"checkboxKG3\" class\n",
    "--D2CBA65440D\n",
    "<a>    77094A27E09 </a>\n",
    "  hello world  --77094A27E\n",
    "--770--\n",
    "    --77094A27E09\n",
    "Content-T=\"checkboxKG\" value=\"KG3\" /> 12312af\n",
    "\"\"\"\n",
    "hexapattern = r' ([0-9a-fA-F]+) (?:)?'\n",
    "print (re.findall(pattern_hex, text))"
   ]
  },
  {
   "cell_type": "code",
   "execution_count": 125,
   "metadata": {},
   "outputs": [
    {
     "data": {
      "text/plain": [
       "['li1nhpn@vi1et.c1om']"
      ]
     },
     "execution_count": 125,
     "metadata": {},
     "output_type": "execute_result"
    }
   ],
   "source": [
    "emailpattern = r\"([a-zA-Z0-9_.+-]+@[a-zA-Z0-9-]+\\.[a-zA-Z0-9-.]+)\"\n",
    "email = 'a li1nhpn@vi1et.c1om hahaha'\n",
    "re.findall(pattern_email,email)"
   ]
  },
  {
   "cell_type": "code",
   "execution_count": 57,
   "metadata": {},
   "outputs": [
    {
     "data": {
      "text/plain": [
       "['hello@world.com', '123@123.at', 'myname@some-domain.pt']"
      ]
     },
     "execution_count": 57,
     "metadata": {},
     "output_type": "execute_result"
    }
   ],
   "source": [
    "text = \"blabla <hello@world.com>><123@123.at> <huhu@fake> bla bla <myname@some-domain.pt>\"\n",
    "\n",
    "# 1. find all potential email addresses (note: < inside <> is a problem)\n",
    "matches = re.findall('<\\S+?>', text)  # ['<hello@world.com>', '<123@123.at>', '<huhu@fake>', '<myname@somedomain.edu>']\n",
    "\n",
    "# 2. apply email regex pattern to string inside <>\n",
    "emails = [ x[1:-1] for x in matches if re.match(r\"(^[a-zA-Z0-9_.+-]+@[a-zA-Z0-9-]+\\.[a-zA-Z0-9-.]+$)\", x[1:-1]) ]\n",
    "emails   # ['hello@world.com', '123@123.at', 'myname@some-domain.pt']\n",
    "re.findall(r\"([a-zA-Z0-9_.+-]+@[a-zA-Z0-9-]+\\.[a-zA-Z0-9-.]+)\", text)"
   ]
  },
  {
   "cell_type": "code",
   "execution_count": 13,
   "metadata": {
    "collapsed": true
   },
   "outputs": [],
   "source": [
    "del utils_re\n",
    "import utils_re"
   ]
  },
  {
   "cell_type": "code",
   "execution_count": 15,
   "metadata": {},
   "outputs": [
    {
     "data": {
      "text/plain": [
       "[0, 0, 0, 1, 1, 0, 0, 0, 0, 0, 0]"
      ]
     },
     "execution_count": 15,
     "metadata": {},
     "output_type": "execute_result"
    }
   ],
   "source": [
    "utils_re.get_pattern('http://google.com.vn')"
   ]
  }
 ],
 "metadata": {
  "kernelspec": {
   "display_name": "Python 3",
   "language": "python",
   "name": "python3"
  },
  "language_info": {
   "codemirror_mode": {
    "name": "ipython",
    "version": 3
   },
   "file_extension": ".py",
   "mimetype": "text/x-python",
   "name": "python",
   "nbconvert_exporter": "python",
   "pygments_lexer": "ipython3",
   "version": "3.6.1"
  }
 },
 "nbformat": 4,
 "nbformat_minor": 2
}
